{
 "cells": [
  {
   "cell_type": "code",
   "execution_count": null,
   "metadata": {},
   "outputs": [],
   "source": [
    "from io import StringIO \n",
    "import pandas as pd\n",
    "import numpy as np\n",
    "import matplotlib.pyplot as plt\n",
    "from sklearn.ensemble import RandomForestClassifier\n",
    "from sklearn.metrics import classification_report, confusion_matrix, accuracy_score, precision_score, recall_score, f1_score, roc_auc_score\n",
    "from sklearn.model_selection import train_test_split"
   ]
  },
  {
   "cell_type": "code",
   "execution_count": null,
   "metadata": {
    "scrolled": false
   },
   "outputs": [],
   "source": [
    "input_file = \"data.csv\"\n",
    "dataset = pd.read_csv(input_file, header = 0)\n",
    "d=dataset\n",
    "input_file = \"closed.dat\"\n",
    "b = pd.read_csv(StringIO(''.join(l.replace('\\t',' ') for l in open(input_file))), header = None, sep=' ')\n",
    "for name in ['4pir', '6be1', '6his','2bg9','3jad','6ubs','6huk','7koo']:\n",
    "    c=b[b.eq(name).any(axis=1)].iloc[:,1:4]\n",
    "    d=pd.concat([d,c])\n",
    "d.iloc[:40,11:14]=d.iloc[-40:,11:14]\n",
    "input_file = \"open.dat\"\n",
    "b = pd.read_csv(StringIO(''.join(l.replace('\\t',' ') for l in open(input_file))), header = None, sep=' ')\n",
    "for name in ['6dg8','6hin','6y5a','7kox','6ud3','3jae']:\n",
    "    c=b[b.eq(name).any(axis=1)].iloc[:,1:4]\n",
    "    d=pd.concat([d,c])\n",
    "d.iloc[40:70,11:14]=d.iloc[110:141,11:14]\n",
    "d=d.rename(columns={1:'M1/M2',2:'M1/M3',3:'M2/M3'})\n",
    "e = d[['PDB','M1 radial tilt','M1 tangential tilt','M2 radial tilt','M2 tangential tilt','M3 radial tilt','M3 tangential tilt','ECD TMD twist','Subunit TMD interface contact area','M1/M3 M2 interface contact area','M1/M2','M1/M3','M2/M3','Class']]\n",
    "dataset=e[:70]\n",
    "dataset"
   ]
  },
  {
   "cell_type": "code",
   "execution_count": null,
   "metadata": {
    "scrolled": false
   },
   "outputs": [],
   "source": [
    "X = dataset.iloc[:,1:13].values\n",
    "y = dataset.iloc[:,13].values\n",
    "y = y.astype(int)\n",
    "np.shape(X)"
   ]
  },
  {
   "cell_type": "code",
   "execution_count": null,
   "metadata": {
    "scrolled": true
   },
   "outputs": [],
   "source": [
    "prec_acc=[]\n",
    "precsd_acc=[]\n",
    "size_acc=[]\n",
    "impr_acc=[]\n",
    "imprsd_acc=[]\n",
    "aucc_acc=[]\n",
    "rfc_acc=[]\n",
    "for perc in [0.1, 0.3, 0.5]: \n",
    "    precision=[]\n",
    "    importance=[]\n",
    "    auc=[]\n",
    "    for _ in range(100):\n",
    "        X_train, X_test, y_train, y_test = train_test_split(X, y, test_size=perc, random_state=None)\n",
    "        rfc = RandomForestClassifier(n_estimators=100, random_state=None)\n",
    "        rfc.fit(X_train, y_train)\n",
    "        preds=rfc.predict_proba(X_test)\n",
    "        a=y_test\n",
    "        a=np.where((a==0)|(a==1), a^1, a)\n",
    "        precision.append((np.sum(preds[:,1]*y_test)+np.sum(preds[:,0]*a))/np.size(y_test))\n",
    "        importance.append(rfc.feature_importances_)\n",
    "    impr_acc.append(np.mean(np.stack(importance), axis=0))\n",
    "    imprsd_acc.append(np.std(np.stack(importance), axis=0))\n",
    "    size_acc.append(np.size(y_test))\n",
    "    prec_acc.append(np.mean(precision))\n",
    "    precsd_acc.append(np.std(precision))\n",
    "    rfc_acc.append(rfc)"
   ]
  },
  {
   "cell_type": "code",
   "execution_count": null,
   "metadata": {
    "scrolled": false
   },
   "outputs": [],
   "source": [
    "plt.rcParams.update({'font.size': 24})\n",
    "fig, ax = plt.subplots()\n",
    "patch = ax.bar(np.shape(X)[0]-np.array(size_acc),prec_acc, 10, yerr=precsd_acc, capsize=10)\n",
    "patch[0].set_facecolor('#94B49F')\n",
    "patch[1].set_facecolor('#DF7861')\n",
    "patch[2].set_facecolor('#3A5BA0')\n",
    "plt.xticks(np.shape(X)[0]-np.array(size_acc))\n",
    "plt.yticks(np.arange(0,1.1,.2))\n",
    "plt.show()"
   ]
  },
  {
   "cell_type": "code",
   "execution_count": null,
   "metadata": {
    "scrolled": false
   },
   "outputs": [],
   "source": [
    "plt.rcParams.update({'font.size': 16})\n",
    "labels=['Size 1', 'Size 2', 'Size 3']\n",
    "x=np.arange(1,13)\n",
    "fig, ax = plt.subplots()\n",
    "ax.bar(x+.2,impr_acc[0], .2, yerr=imprsd_acc[2], capsize=2, facecolor='#94B49F')\n",
    "ax.bar(x,impr_acc[1], .2, yerr=imprsd_acc[1], capsize=2, facecolor='#DF7861')\n",
    "ax.bar(x-.2,impr_acc[2], .2, yerr=imprsd_acc[0], capsize=2, facecolor='#3A5BA0')\n",
    "plt.xticks(x)\n",
    "plt.show()"
   ]
  },
  {
   "cell_type": "code",
   "execution_count": null,
   "metadata": {},
   "outputs": [],
   "source": [
    "prec_acc=[]\n",
    "size_acc=[]\n",
    "impr_acc=[]\n",
    "aucc_acc=[]\n",
    "rfc_acc=[]\n",
    "labels=['Test 1', 'Test 2', 'Test 3', 'Test 4', 'Test 5']\n",
    "for start in np.arange(0,70,5): \n",
    "    precision=[]\n",
    "    importance=[]\n",
    "    auc=[]\n",
    "    for _ in range(1):\n",
    "        X_train=np.delete(X,np.arange(start,start+5),0)\n",
    "        y_train=np.delete(y,np.arange(start,start+5),0)\n",
    "        X_test=X[start:start+5]\n",
    "        y_test=y[start:start+5]\n",
    "        rfc = RandomForestClassifier(n_estimators=100, random_state=0)\n",
    "        rfc.fit(X_train, y_train)\n",
    "        preds=rfc.predict_proba(X_test)\n",
    "        a=y_test\n",
    "        a=np.where((a==0)|(a==1), a^1, a)\n",
    "        precision.append((np.sum(preds[:,1]*y_test)+np.sum(preds[:,0]*a))/np.size(y_test))\n",
    "        importance.append(rfc.feature_importances_)\n",
    "        print(preds)\n",
    "        fig, ax = plt.subplots(figsize=(5,3))  \n",
    "        ax.barh(labels,-preds[:,0],0.3)\n",
    "        ax.barh(labels,preds[:,1],0.3)\n",
    "        ax.barh(labels,preds[:,1]*y_test-preds[:,0]*a,0.4,facecolor='white',edgecolor='k',lw=3,alpha=.3)\n",
    "        plt.show()\n",
    "    impr_acc.append(np.mean(np.stack(importance), axis=0))\n",
    "    size_acc.append(np.size(y_test))\n",
    "    prec_acc.append(np.mean(precision))\n",
    "    rfc_acc.append(rfc)\n",
    "labels=['4PIR', '6BE1', '6HIS', '2BG9', '3JAD', '6UBS', '6HUK', '7KOO', '6DG8', '6HIN', '6Y5A', '7KOX', '6UD3', '3JAE']\n",
    "fig, ax = plt.subplots()\n",
    "patch = ax.bar(labels,prec_acc, .5)\n",
    "plt.vlines(x=8.5,ymin=0,ymax=1, color='k', linestyle='--')\n",
    "plt.xticks(rotation = 75)\n",
    "plt.show()"
   ]
  },
  {
   "cell_type": "code",
   "execution_count": null,
   "metadata": {
    "scrolled": false
   },
   "outputs": [],
   "source": [
    "from bayes_opt import BayesianOptimization\n",
    "from sklearn.model_selection import train_test_split,cross_val_score,StratifiedKFold\n",
    "def stratified_kfold_score(clf,X,y,n_fold):\n",
    "    strat_kfold = StratifiedKFold(n_splits=n_fold, shuffle=True, random_state=None)\n",
    "    accuracy_list = []\n",
    "    for train_index, test_index in strat_kfold.split(X, y):\n",
    "        x_train_fold, x_test_fold = X[train_index], X[test_index]\n",
    "        y_train_fold, y_test_fold = y[train_index], y[test_index]\n",
    "        clf.fit(x_train_fold, y_train_fold)\n",
    "        preds = clf.predict_proba(x_test_fold)\n",
    "        a=y_test_fold\n",
    "        a=np.where((a==0)|(a==1), a^1, a)\n",
    "        accuracy_list.append((np.sum(preds[:,1]*y_test_fold)+np.sum(preds[:,0]*a))/np.size(y_test_fold))\n",
    "    return np.array(accuracy_list).mean()\n",
    "prec_acc=[]\n",
    "size_acc=[]\n",
    "impr_acc=[]\n",
    "aucc_acc=[]\n",
    "rfc_acc=[]\n",
    "for perc,nfold in zip([0.1, 0.3, 0.5],[10,3,2]): \n",
    "    precision=[]\n",
    "    importance=[]\n",
    "    auc=[]\n",
    "    for _ in range(100):\n",
    "        X_train, X_test, y_train, y_test = train_test_split(X, y, test_size=perc, random_state=None)\n",
    "        def bo_params_rf(n_estimators):\n",
    "            params = {\n",
    "                'n_estimators':int(n_estimators)\n",
    "            }\n",
    "            clf = RandomForestClassifier(n_estimators=params['n_estimators'])\n",
    "            score = stratified_kfold_score(clf,X,y,nfold)\n",
    "            return score\n",
    "        rf_bo = BayesianOptimization(bo_params_rf, {\n",
    "                                              'n_estimators':(100,999)\n",
    "                                             })\n",
    "        rf_bo.maximize(n_iter=3, init_points=3)\n",
    "        params = rf_bo.max['params']\n",
    "        params['n_estimators']= int(params['n_estimators'])\n",
    "        rfc = RandomForestClassifier(n_estimators=params['n_estimators'])\n",
    "        rfc.fit(X_train, y_train)\n",
    "        preds=rfc.predict_proba(X_test)\n",
    "        a=y_test\n",
    "        a=np.where((a==0)|(a==1), a^1, a)\n",
    "        precision.append((np.sum(preds[:,1]*y_test)+np.sum(preds[:,0]*a))/np.size(y_test))\n",
    "        importance.append(rfc.feature_importances_)\n",
    "        auc.append(roc_auc_score(y_test,preds[:,1]))\n",
    "    impr_acc.append(np.mean(np.stack(importance), axis=0))\n",
    "    size_acc.append(np.size(y_test))\n",
    "    prec_acc.append(np.mean(precision))\n",
    "    aucc_acc.append(np.mean(auc))\n",
    "    rfc_acc.append(rfc)"
   ]
  }
 ],
 "metadata": {
  "kernelspec": {
   "display_name": "rfc",
   "language": "python",
   "name": "rfc"
  },
  "language_info": {
   "codemirror_mode": {
    "name": "ipython",
    "version": 3
   },
   "file_extension": ".py",
   "mimetype": "text/x-python",
   "name": "python",
   "nbconvert_exporter": "python",
   "pygments_lexer": "ipython3",
   "version": "3.10.5"
  }
 },
 "nbformat": 4,
 "nbformat_minor": 4
}
